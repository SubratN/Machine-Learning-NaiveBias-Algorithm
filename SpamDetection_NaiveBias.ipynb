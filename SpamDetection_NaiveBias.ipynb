{
 "cells": [
  {
   "cell_type": "markdown",
   "id": "d15703b3",
   "metadata": {},
   "source": [
    "## Objective is to predict whether a message will be spam or not"
   ]
  },
  {
   "cell_type": "code",
   "execution_count": 44,
   "id": "b699e2dd",
   "metadata": {},
   "outputs": [],
   "source": [
    "#Load the necessary python libraries\n",
    "import numpy as np\n",
    "import pandas as pd\n",
    "import matplotlib.pyplot as plt\n",
    "import seaborn as sns\n",
    "import nltk\n",
    "from nltk.corpus import stopwords\n",
    "import string\n",
    "from sklearn.feature_extraction.text import CountVectorizer\n",
    "from sklearn.model_selection import train_test_split\n",
    "from sklearn.metrics import classification_report,confusion_matrix\n",
    "\n",
    "%matplotlib inline\n",
    "plt.style.use('ggplot')"
   ]
  },
  {
   "cell_type": "code",
   "execution_count": 13,
   "id": "e7b70eda",
   "metadata": {},
   "outputs": [
    {
     "data": {
      "text/html": [
       "<div>\n",
       "<style scoped>\n",
       "    .dataframe tbody tr th:only-of-type {\n",
       "        vertical-align: middle;\n",
       "    }\n",
       "\n",
       "    .dataframe tbody tr th {\n",
       "        vertical-align: top;\n",
       "    }\n",
       "\n",
       "    .dataframe thead th {\n",
       "        text-align: right;\n",
       "    }\n",
       "</style>\n",
       "<table border=\"1\" class=\"dataframe\">\n",
       "  <thead>\n",
       "    <tr style=\"text-align: right;\">\n",
       "      <th></th>\n",
       "      <th>label</th>\n",
       "      <th>message</th>\n",
       "    </tr>\n",
       "  </thead>\n",
       "  <tbody>\n",
       "    <tr>\n",
       "      <th>0</th>\n",
       "      <td>ham</td>\n",
       "      <td>Go until jurong point, crazy.. Available only ...</td>\n",
       "    </tr>\n",
       "    <tr>\n",
       "      <th>1</th>\n",
       "      <td>ham</td>\n",
       "      <td>Ok lar... Joking wif u oni...</td>\n",
       "    </tr>\n",
       "    <tr>\n",
       "      <th>2</th>\n",
       "      <td>spam</td>\n",
       "      <td>Free entry in 2 a wkly comp to win FA Cup fina...</td>\n",
       "    </tr>\n",
       "    <tr>\n",
       "      <th>3</th>\n",
       "      <td>ham</td>\n",
       "      <td>U dun say so early hor... U c already then say...</td>\n",
       "    </tr>\n",
       "    <tr>\n",
       "      <th>4</th>\n",
       "      <td>ham</td>\n",
       "      <td>Nah I don't think he goes to usf, he lives aro...</td>\n",
       "    </tr>\n",
       "  </tbody>\n",
       "</table>\n",
       "</div>"
      ],
      "text/plain": [
       "  label                                            message\n",
       "0   ham  Go until jurong point, crazy.. Available only ...\n",
       "1   ham                      Ok lar... Joking wif u oni...\n",
       "2  spam  Free entry in 2 a wkly comp to win FA Cup fina...\n",
       "3   ham  U dun say so early hor... U c already then say...\n",
       "4   ham  Nah I don't think he goes to usf, he lives aro..."
      ]
     },
     "execution_count": 13,
     "metadata": {},
     "output_type": "execute_result"
    }
   ],
   "source": [
    "message = pd.read_csv('spam.csv', encoding='latin-1')[['v1', 'v2']]\n",
    "message.columns = ['label', 'message']\n",
    "message.head()"
   ]
  },
  {
   "cell_type": "code",
   "execution_count": 14,
   "id": "de1f6785",
   "metadata": {},
   "outputs": [
    {
     "data": {
      "text/plain": [
       "(5572, 2)"
      ]
     },
     "execution_count": 14,
     "metadata": {},
     "output_type": "execute_result"
    }
   ],
   "source": [
    "message.shape"
   ]
  },
  {
   "cell_type": "code",
   "execution_count": 6,
   "id": "624d164e",
   "metadata": {},
   "outputs": [
    {
     "data": {
      "text/plain": [
       "label      0\n",
       "message    0\n",
       "dtype: int64"
      ]
     },
     "execution_count": 6,
     "metadata": {},
     "output_type": "execute_result"
    }
   ],
   "source": [
    "message.isnull().sum()"
   ]
  },
  {
   "cell_type": "code",
   "execution_count": 11,
   "id": "d42cbf96",
   "metadata": {},
   "outputs": [
    {
     "data": {
      "text/plain": [
       "ham     4516\n",
       "spam     653\n",
       "Name: label, dtype: int64"
      ]
     },
     "execution_count": 11,
     "metadata": {},
     "output_type": "execute_result"
    }
   ],
   "source": [
    "message['label'].value_counts()"
   ]
  },
  {
   "cell_type": "code",
   "execution_count": 16,
   "id": "d467f1d4",
   "metadata": {},
   "outputs": [
    {
     "data": {
      "text/html": [
       "<div>\n",
       "<style scoped>\n",
       "    .dataframe tbody tr th:only-of-type {\n",
       "        vertical-align: middle;\n",
       "    }\n",
       "\n",
       "    .dataframe tbody tr th {\n",
       "        vertical-align: top;\n",
       "    }\n",
       "\n",
       "    .dataframe thead tr th {\n",
       "        text-align: left;\n",
       "    }\n",
       "\n",
       "    .dataframe thead tr:last-of-type th {\n",
       "        text-align: right;\n",
       "    }\n",
       "</style>\n",
       "<table border=\"1\" class=\"dataframe\">\n",
       "  <thead>\n",
       "    <tr>\n",
       "      <th></th>\n",
       "      <th colspan=\"4\" halign=\"left\">message</th>\n",
       "    </tr>\n",
       "    <tr>\n",
       "      <th></th>\n",
       "      <th>count</th>\n",
       "      <th>unique</th>\n",
       "      <th>top</th>\n",
       "      <th>freq</th>\n",
       "    </tr>\n",
       "    <tr>\n",
       "      <th>label</th>\n",
       "      <th></th>\n",
       "      <th></th>\n",
       "      <th></th>\n",
       "      <th></th>\n",
       "    </tr>\n",
       "  </thead>\n",
       "  <tbody>\n",
       "    <tr>\n",
       "      <th>ham</th>\n",
       "      <td>4825</td>\n",
       "      <td>4516</td>\n",
       "      <td>Sorry, I'll call later</td>\n",
       "      <td>30</td>\n",
       "    </tr>\n",
       "    <tr>\n",
       "      <th>spam</th>\n",
       "      <td>747</td>\n",
       "      <td>653</td>\n",
       "      <td>Please call our customer service representativ...</td>\n",
       "      <td>4</td>\n",
       "    </tr>\n",
       "  </tbody>\n",
       "</table>\n",
       "</div>"
      ],
      "text/plain": [
       "      message                                                               \n",
       "        count unique                                                top freq\n",
       "label                                                                       \n",
       "ham      4825   4516                             Sorry, I'll call later   30\n",
       "spam      747    653  Please call our customer service representativ...    4"
      ]
     },
     "execution_count": 16,
     "metadata": {},
     "output_type": "execute_result"
    }
   ],
   "source": [
    "message.groupby('label').describe()"
   ]
  },
  {
   "cell_type": "code",
   "execution_count": 17,
   "id": "9e6ef2bc",
   "metadata": {},
   "outputs": [
    {
     "data": {
      "text/html": [
       "<div>\n",
       "<style scoped>\n",
       "    .dataframe tbody tr th:only-of-type {\n",
       "        vertical-align: middle;\n",
       "    }\n",
       "\n",
       "    .dataframe tbody tr th {\n",
       "        vertical-align: top;\n",
       "    }\n",
       "\n",
       "    .dataframe thead th {\n",
       "        text-align: right;\n",
       "    }\n",
       "</style>\n",
       "<table border=\"1\" class=\"dataframe\">\n",
       "  <thead>\n",
       "    <tr style=\"text-align: right;\">\n",
       "      <th></th>\n",
       "      <th>label</th>\n",
       "      <th>message</th>\n",
       "      <th>length</th>\n",
       "    </tr>\n",
       "  </thead>\n",
       "  <tbody>\n",
       "    <tr>\n",
       "      <th>0</th>\n",
       "      <td>ham</td>\n",
       "      <td>Go until jurong point, crazy.. Available only ...</td>\n",
       "      <td>111</td>\n",
       "    </tr>\n",
       "    <tr>\n",
       "      <th>1</th>\n",
       "      <td>ham</td>\n",
       "      <td>Ok lar... Joking wif u oni...</td>\n",
       "      <td>29</td>\n",
       "    </tr>\n",
       "    <tr>\n",
       "      <th>2</th>\n",
       "      <td>spam</td>\n",
       "      <td>Free entry in 2 a wkly comp to win FA Cup fina...</td>\n",
       "      <td>155</td>\n",
       "    </tr>\n",
       "    <tr>\n",
       "      <th>3</th>\n",
       "      <td>ham</td>\n",
       "      <td>U dun say so early hor... U c already then say...</td>\n",
       "      <td>49</td>\n",
       "    </tr>\n",
       "    <tr>\n",
       "      <th>4</th>\n",
       "      <td>ham</td>\n",
       "      <td>Nah I don't think he goes to usf, he lives aro...</td>\n",
       "      <td>61</td>\n",
       "    </tr>\n",
       "  </tbody>\n",
       "</table>\n",
       "</div>"
      ],
      "text/plain": [
       "  label                                            message  length\n",
       "0   ham  Go until jurong point, crazy.. Available only ...     111\n",
       "1   ham                      Ok lar... Joking wif u oni...      29\n",
       "2  spam  Free entry in 2 a wkly comp to win FA Cup fina...     155\n",
       "3   ham  U dun say so early hor... U c already then say...      49\n",
       "4   ham  Nah I don't think he goes to usf, he lives aro...      61"
      ]
     },
     "execution_count": 17,
     "metadata": {},
     "output_type": "execute_result"
    }
   ],
   "source": [
    "message['length'] = message['message'].apply(len)\n",
    "message.head()"
   ]
  },
  {
   "cell_type": "code",
   "execution_count": 21,
   "id": "cddad4e7",
   "metadata": {},
   "outputs": [
    {
     "data": {
      "text/plain": [
       "<AxesSubplot:ylabel='Frequency'>"
      ]
     },
     "execution_count": 21,
     "metadata": {},
     "output_type": "execute_result"
    },
    {
     "data": {
      "image/png": "[encoded data removed]",
      "text/plain": [
       "<Figure size 432x288 with 1 Axes>"
      ]
     },
     "metadata": {},
     "output_type": "display_data"
    }
   ],
   "source": [
    "message['length'].plot(kind ='hist',bins= 50)"
   ]
  },
  {
   "cell_type": "code",
   "execution_count": 22,
   "id": "e7f5366a",
   "metadata": {},
   "outputs": [
    {
     "data": {
      "text/plain": [
       "count    5572.000000\n",
       "mean       80.118808\n",
       "std        59.690841\n",
       "min         2.000000\n",
       "25%        36.000000\n",
       "50%        61.000000\n",
       "75%       121.000000\n",
       "max       910.000000\n",
       "Name: length, dtype: float64"
      ]
     },
     "execution_count": 22,
     "metadata": {},
     "output_type": "execute_result"
    }
   ],
   "source": [
    "message.length.describe()"
   ]
  },
  {
   "cell_type": "markdown",
   "id": "05750648",
   "metadata": {},
   "source": [
    "Our main issue with our data is that it is all in text format (strings). The classification algorithms that we've learned about so far will need some sort of numerical feature vector in order to perform the classification task. There are actually many methods to convert a corpus to a vector format. The simplest is the the bag-of-words approach, where each unique word in a text will be represented by one number."
   ]
  },
  {
   "cell_type": "code",
   "execution_count": 24,
   "id": "f60d6c62",
   "metadata": {},
   "outputs": [
    {
     "data": {
      "text/plain": [
       "['!',\n",
       " '\"',\n",
       " '#',\n",
       " '$',\n",
       " '%',\n",
       " '&',\n",
       " \"'\",\n",
       " '(',\n",
       " ')',\n",
       " '*',\n",
       " '+',\n",
       " ',',\n",
       " '-',\n",
       " '.',\n",
       " '/',\n",
       " ':',\n",
       " ';',\n",
       " '<',\n",
       " '=',\n",
       " '>',\n",
       " '?',\n",
       " '@',\n",
       " '[',\n",
       " '\\\\',\n",
       " ']',\n",
       " '^',\n",
       " '_',\n",
       " '`',\n",
       " '{',\n",
       " '|',\n",
       " '}',\n",
       " '~']"
      ]
     },
     "execution_count": 24,
     "metadata": {},
     "output_type": "execute_result"
    }
   ],
   "source": [
    "[i for i in string.punctuation]"
   ]
  },
  {
   "cell_type": "code",
   "execution_count": 25,
   "id": "fc2ce439",
   "metadata": {},
   "outputs": [],
   "source": [
    "def text_process(msg):\n",
    "    nopunc =[char for char in msg if char not in string.punctuation]\n",
    "    nopunc=''.join(nopunc)\n",
    "    return ' '.join([word for word in nopunc.split() if word.lower() not in stopwords.words('english')])"
   ]
  },
  {
   "cell_type": "code",
   "execution_count": 26,
   "id": "e994ca6f",
   "metadata": {},
   "outputs": [],
   "source": [
    "message['tokenized_message'] = message['message'].apply(text_process)"
   ]
  },
  {
   "cell_type": "code",
   "execution_count": 27,
   "id": "613772e0",
   "metadata": {},
   "outputs": [
    {
     "data": {
      "text/html": [
       "<div>\n",
       "<style scoped>\n",
       "    .dataframe tbody tr th:only-of-type {\n",
       "        vertical-align: middle;\n",
       "    }\n",
       "\n",
       "    .dataframe tbody tr th {\n",
       "        vertical-align: top;\n",
       "    }\n",
       "\n",
       "    .dataframe thead th {\n",
       "        text-align: right;\n",
       "    }\n",
       "</style>\n",
       "<table border=\"1\" class=\"dataframe\">\n",
       "  <thead>\n",
       "    <tr style=\"text-align: right;\">\n",
       "      <th></th>\n",
       "      <th>label</th>\n",
       "      <th>message</th>\n",
       "      <th>length</th>\n",
       "      <th>tokenized_message</th>\n",
       "    </tr>\n",
       "  </thead>\n",
       "  <tbody>\n",
       "    <tr>\n",
       "      <th>0</th>\n",
       "      <td>ham</td>\n",
       "      <td>Go until jurong point, crazy.. Available only ...</td>\n",
       "      <td>111</td>\n",
       "      <td>Go jurong point crazy Available bugis n great ...</td>\n",
       "    </tr>\n",
       "    <tr>\n",
       "      <th>1</th>\n",
       "      <td>ham</td>\n",
       "      <td>Ok lar... Joking wif u oni...</td>\n",
       "      <td>29</td>\n",
       "      <td>Ok lar Joking wif u oni</td>\n",
       "    </tr>\n",
       "    <tr>\n",
       "      <th>2</th>\n",
       "      <td>spam</td>\n",
       "      <td>Free entry in 2 a wkly comp to win FA Cup fina...</td>\n",
       "      <td>155</td>\n",
       "      <td>Free entry 2 wkly comp win FA Cup final tkts 2...</td>\n",
       "    </tr>\n",
       "    <tr>\n",
       "      <th>3</th>\n",
       "      <td>ham</td>\n",
       "      <td>U dun say so early hor... U c already then say...</td>\n",
       "      <td>49</td>\n",
       "      <td>U dun say early hor U c already say</td>\n",
       "    </tr>\n",
       "    <tr>\n",
       "      <th>4</th>\n",
       "      <td>ham</td>\n",
       "      <td>Nah I don't think he goes to usf, he lives aro...</td>\n",
       "      <td>61</td>\n",
       "      <td>Nah dont think goes usf lives around though</td>\n",
       "    </tr>\n",
       "  </tbody>\n",
       "</table>\n",
       "</div>"
      ],
      "text/plain": [
       "  label                                            message  length  \\\n",
       "0   ham  Go until jurong point, crazy.. Available only ...     111   \n",
       "1   ham                      Ok lar... Joking wif u oni...      29   \n",
       "2  spam  Free entry in 2 a wkly comp to win FA Cup fina...     155   \n",
       "3   ham  U dun say so early hor... U c already then say...      49   \n",
       "4   ham  Nah I don't think he goes to usf, he lives aro...      61   \n",
       "\n",
       "                                   tokenized_message  \n",
       "0  Go jurong point crazy Available bugis n great ...  \n",
       "1                            Ok lar Joking wif u oni  \n",
       "2  Free entry 2 wkly comp win FA Cup final tkts 2...  \n",
       "3                U dun say early hor U c already say  \n",
       "4        Nah dont think goes usf lives around though  "
      ]
     },
     "execution_count": 27,
     "metadata": {},
     "output_type": "execute_result"
    }
   ],
   "source": [
    "message.head()"
   ]
  },
  {
   "cell_type": "markdown",
   "id": "fd91b16c",
   "metadata": {},
   "source": [
    "Currently, we have the messages as lists of tokens (also known as lemmas) and now we need to convert each of those messages into a vector the SciKit Learn's algorithm models can work with."
   ]
  },
  {
   "cell_type": "code",
   "execution_count": 30,
   "id": "480f26d0",
   "metadata": {},
   "outputs": [],
   "source": [
    "vectorizer = CountVectorizer(max_df = 0.9,min_df = 10)\n",
    "X = vectorizer.fit_transform(message['tokenized_message'])"
   ]
  },
  {
   "cell_type": "code",
   "execution_count": 31,
   "id": "475748b3",
   "metadata": {},
   "outputs": [
    {
     "data": {
      "text/plain": [
       "array([0, 0, 0, 0, 0, 0, 0, 0, 0, 0, 0, 0, 0, 0, 0, 0, 0, 0, 0, 0, 0, 0,\n",
       "       0, 0, 0, 0, 0, 0, 0, 0, 0, 0, 0, 0, 0, 0, 0, 0, 0, 0, 1, 0, 0, 0,\n",
       "       0, 0, 0, 0, 0, 0, 0, 0, 0, 0, 0, 0, 0, 0, 0, 0, 0, 0, 0, 0, 0, 0,\n",
       "       0, 0, 0, 0, 0, 0, 0, 0, 0, 0, 0, 0, 0, 1, 0, 0, 0, 0, 0, 0, 0, 0,\n",
       "       0, 0, 0, 0, 0, 0, 0, 0, 0, 0, 0, 0, 0, 0, 0, 1, 0, 0, 0, 0, 0, 0,\n",
       "       0, 0, 0, 0, 0, 0, 0, 0, 0, 0, 0, 0, 0, 0, 0, 0, 0, 0, 0, 0, 0, 0,\n",
       "       0, 0, 0, 0, 0, 0, 0, 0, 0, 0, 0, 0, 0, 0, 0, 0, 0, 0, 0, 0, 0, 0,\n",
       "       0, 0, 0, 0, 0, 0, 0, 0, 0, 0, 0, 0, 0, 0, 0, 0, 0, 0, 0, 0, 0, 0,\n",
       "       0, 0, 0, 0, 0, 0, 0, 0, 0, 1, 0, 0, 0, 0, 0, 0, 0, 0, 0, 0, 0, 0,\n",
       "       0, 0, 0, 0, 0, 0, 0, 0, 0, 0, 0, 0, 0, 0, 0, 0, 0, 0, 0, 0, 0, 0,\n",
       "       0, 0, 0, 0, 0, 0, 0, 0, 0, 0, 0, 0, 0, 0, 0, 0, 0, 0, 0, 0, 0, 0,\n",
       "       0, 0, 0, 0, 0, 0, 0, 0, 0, 0, 0, 0, 0, 0, 0, 0, 0, 0, 0, 0, 0, 0,\n",
       "       0, 0, 0, 0, 0, 0, 0, 0, 0, 0, 0, 0, 0, 0, 0, 0, 0, 0, 0, 0, 0, 0,\n",
       "       0, 0, 0, 0, 0, 0, 1, 0, 0, 0, 0, 0, 0, 0, 0, 0, 1, 0, 0, 0, 0, 1,\n",
       "       0, 0, 0, 0, 0, 0, 0, 0, 0, 0, 0, 0, 0, 0, 0, 0, 0, 0, 0, 0, 0, 0,\n",
       "       0, 0, 0, 0, 0, 0, 0, 0, 0, 0, 0, 0, 0, 0, 0, 0, 0, 0, 0, 0, 0, 0,\n",
       "       0, 0, 0, 0, 0, 0, 0, 0, 0, 0, 0, 0, 0, 0, 0, 0, 0, 0, 0, 0, 0, 0,\n",
       "       0, 0, 0, 0, 0, 0, 0, 0, 0, 0, 0, 0, 0, 0, 0, 0, 0, 0, 0, 0, 0, 0,\n",
       "       0, 0, 0, 0, 0, 0, 0, 0, 0, 0, 0, 0, 0, 0, 0, 0, 0, 0, 0, 0, 0, 0,\n",
       "       0, 0, 0, 0, 0, 0, 0, 0, 0, 0, 0, 0, 0, 0, 0, 0, 0, 0, 0, 0, 0, 0,\n",
       "       0, 0, 0, 0, 0, 0, 0, 0, 0, 0, 0, 0, 0, 0, 0, 0, 0, 0, 0, 0, 0, 0,\n",
       "       0, 0, 0, 0, 0, 1, 0, 0, 0, 0, 0, 0, 0, 0, 0, 0, 0, 0, 0, 0, 0, 0,\n",
       "       0, 0, 0, 0, 0, 0, 0, 0, 0, 0, 0, 0, 0, 0, 0, 0, 0, 0, 0, 0, 0, 0,\n",
       "       0, 0, 0, 0, 0, 0, 0, 0, 0, 0, 0, 0, 0, 0, 0, 0, 0, 0, 0, 0, 0, 0,\n",
       "       0, 0, 0, 0, 0, 0, 0, 0, 0, 0, 0, 0, 0, 0, 0, 0, 0, 0, 0, 0, 0, 0,\n",
       "       0, 0, 0, 0, 0, 0, 0, 0, 0, 0, 0, 0, 0, 0, 0, 0, 0, 0, 0, 0, 0, 0,\n",
       "       0, 0, 0, 0, 0, 0, 0, 0, 0, 0, 0, 0, 0, 0, 0, 0, 0, 0, 0, 0, 0, 0,\n",
       "       0, 0, 0, 0, 0, 0, 0, 0, 0, 0, 0, 0, 0, 0, 0, 0, 0, 0, 0, 0, 0, 0,\n",
       "       0, 0, 0, 0, 0, 0, 0, 0, 0, 0, 0, 0, 0, 0, 0, 0, 0, 0, 0, 0, 0, 0,\n",
       "       0, 0, 0, 0, 0, 0, 0, 0, 0, 0, 0, 0, 0, 0, 0, 0, 0, 0, 0, 0, 0, 0,\n",
       "       0, 0, 0, 0, 0, 0, 0, 0, 0, 0, 0, 0, 0, 0, 0, 0, 0, 0, 0, 0, 0, 0,\n",
       "       0, 0, 0, 0, 0, 1, 0, 0, 0, 0, 0, 0, 0, 0, 0, 0, 0, 0, 0, 0, 0, 0,\n",
       "       0, 0, 0, 0, 0, 0, 0, 0, 0, 0, 0, 0, 0, 0, 0, 0, 0, 0, 0, 0, 0, 0,\n",
       "       0, 0, 0, 0, 0, 0, 0, 0, 0, 0, 0, 0, 0, 0, 0, 0, 0, 0, 0, 0, 0, 0,\n",
       "       0, 0, 0, 0, 0, 0, 0, 0, 0, 0, 0, 0, 0, 0, 0, 0, 0, 0, 0, 0, 0, 0,\n",
       "       0, 0, 0, 0, 0, 0, 0, 0, 0, 0, 0, 0, 0, 0, 0, 0, 0, 0, 0, 0, 0, 0,\n",
       "       1, 0, 0, 0, 0, 0, 0, 0, 0, 0, 0, 0, 0, 0, 0, 0, 0, 0, 0, 0, 0, 0,\n",
       "       0, 0, 0, 0, 0, 0, 0, 0, 0, 0, 0, 0, 0, 0, 0, 0, 0, 0, 0, 0, 0, 0,\n",
       "       0, 0, 0, 0, 0, 0, 0, 0, 0, 0, 0, 0, 0, 0, 0, 0, 0, 0, 0, 0, 0, 0,\n",
       "       0, 0, 0, 0, 0, 0, 0, 0, 0, 0, 0, 0, 0, 0], dtype=int64)"
      ]
     },
     "execution_count": 31,
     "metadata": {},
     "output_type": "execute_result"
    }
   ],
   "source": [
    "X.toarray()[4560]"
   ]
  },
  {
   "cell_type": "code",
   "execution_count": 32,
   "id": "98f17d53",
   "metadata": {},
   "outputs": [
    {
     "name": "stdout",
     "output_type": "stream",
     "text": [
      "['0800', '08000839402', '08000930705', '10', '100', '1000', '10p', '12', '12hrs', '150', '150p', '150pm', '150pmsg', '150ppm', '16', '18', '1st', '200', '2000', '2003', '250', '2nd', '300', '350', '500', '5000', '750', '800', '8007', '86688', '87066', 'abiola', 'able', 'abt', 'account', 'across', 'actually', 'address', 'admirer', 'aft', 'afternoon', 'age', 'ago', 'ah', 'aight', 'almost', 'alone', 'already', 'alright', 'also', 'always', 'amp', 'angry', 'another', 'ans', 'answer', 'anyone', 'anything', 'anytime', 'anyway', 'apply', 'ard', 'area', 'around', 'asap', 'ask', 'askd', 'asked', 'asking', 'ass', 'attempt', 'auction', 'available', 'await', 'award', 'awarded', 'away', 'awesome', 'b4', 'babe', 'baby', 'back', 'bad', 'bank', 'bath', 'bathe', 'bcoz', 'bday', 'beautiful', 'bed', 'believe', 'best', 'better', 'big', 'birthday', 'bit', 'bonus', 'book', 'booked', 'bored', 'bout', 'box', 'boy', 'boytoy', 'break', 'bring', 'brother', 'bslvyl', 'bt', 'bus', 'busy', 'buy', 'call', 'called', 'caller', 'calling', 'calls', 'camcorder', 'came', 'camera', 'cant', 'car', 'card', 'care', 'carlos', 'case', 'cash', 'cause', 'chance', 'change', 'charge', 'charged', 'chat', 'cheap', 'check', 'checking', 'chennai', 'chikku', 'choose', 'christmas', 'claim', 'class', 'close', 'club', 'code', 'collect', 'collection', 'college', 'colour', 'come', 'comes', 'comin', 'coming', 'comp', 'company', 'complimentary', 'computer', 'confirm', 'congrats', 'congratulations', 'contact', 'content', 'cool', 'correct', 'cos', 'cost', 'could', 'couple', 'course', 'coz', 'crave', 'crazy', 'credit', 'cs', 'cum', 'currently', 'customer', 'cut', 'da', 'dad', 'darlin', 'darren', 'dat', 'date', 'dating', 'day', 'days', 'de', 'dear', 'decided', 'deep', 'del', 'delivery', 'den', 'details', 'didnt', 'die', 'different', 'difficult', 'dinner', 'direct', 'dis', 'discount', 'dnt', 'doesnt', 'doin', 'done', 'dont', 'double', 'download', 'draw', 'dreams', 'drink', 'drive', 'driving', 'drop', 'drugs', 'dude', 'dun', 'dunno', 'earlier', 'early', 'easy', 'eat', 'eg', 'eh', 'either', 'else', 'em', 'email', 'end', 'ends', 'enjoy', 'enough', 'enter', 'entered', 'entry', 'etc', 'eve', 'even', 'evening', 'ever', 'every', 'everyone', 'everything', 'ex', 'exam', 'expires', 'extra', 'face', 'fact', 'family', 'fancy', 'fantastic', 'far', 'fast', 'feel', 'feeling', 'felt', 'film', 'final', 'finally', 'find', 'fine', 'finish', 'finished', 'first', 'fone', 'food', 'forget', 'forgot', 'found', 'fr', 'free', 'freemsg', 'fri', 'friday', 'friend', 'friends', 'friendship', 'frm', 'frnd', 'frnds', 'fuck', 'fucking', 'full', 'fun', 'game', 'games', 'gas', 'gave', 'gd', 'get', 'gets', 'getting', 'gift', 'girl', 'girls', 'give', 'glad', 'go', 'god', 'goes', 'goin', 'going', 'gone', 'gonna', 'good', 'goodmorning', 'got', 'gotta', 'gr8', 'great', 'grins', 'guaranteed', 'gud', 'guess', 'guy', 'guys', 'gym', 'ha', 'haf', 'haha', 'hair', 'half', 'hand', 'happen', 'happened', 'happiness', 'happy', 'hard', 'hav', 'havent', 'head', 'hear', 'heard', 'heart', 'hee', 'hell', 'hello', 'help', 'hes', 'hey', 'hi', 'hit', 'hmm', 'hold', 'holiday', 'home', 'hope', 'hospital', 'hot', 'hour', 'hours', 'house', 'hows', 'huh', 'hungry', 'hurt', 'id', 'identifier', 'ill', 'im', 'immediately', 'important', 'india', 'info', 'information', 'invited', 'ipod', 'isnt', 'ive', 'jay', 'job', 'join', 'jus', 'juz', 'kate', 'keep', 'kind', 'kiss', 'knew', 'know', 'knows', 'knw', 'land', 'landline', 'laptop', 'lar', 'last', 'late', 'later', 'latest', 'laugh', 'ldn', 'least', 'leave', 'leaves', 'leaving', 'left', 'leh', 'lei', 'lesson', 'let', 'lets', 'liao', 'life', 'light', 'like', 'line', 'link', 'listen', 'little', 'live', 'loads', 'log', 'lol', 'long', 'look', 'looking', 'lor', 'lose', 'lost', 'lot', 'lots', 'lovable', 'love', 'loved', 'lovely', 'loving', 'ltd', 'ltdecimalgt', 'ltgt', 'luck', 'lucky', 'lunch', 'luv', 'made', 'mah', 'mail', 'make', 'makes', 'making', 'man', 'many', 'march', 'match', 'mate', 'mates', 'may', 'mayb', 'maybe', 'mean', 'means', 'meant', 'meet', 'meeting', 'message', 'messages', 'met', 'might', 'min', 'mind', 'mine', 'mins', 'minute', 'minutes', 'miss', 'missed', 'missing', 'mm', 'mob', 'mobile', 'mobiles', 'mobileupd8', 'mom', 'moment', 'monday', 'money', 'month', 'months', 'morning', 'motorola', 'move', 'movie', 'mr', 'mrng', 'msg', 'msgs', 'mu', 'much', 'mum', 'music', 'must', 'muz', 'nah', 'name', 'national', 'need', 'needs', 'network', 'neva', 'never', 'new', 'news', 'next', 'ni8', 'nice', 'night', 'nite', 'noe', 'nokia', 'nope', 'nothing', 'nt', 'ntt', 'number', 'numbers', 'offer', 'offers', 'office', 'oh', 'ok', 'okay', 'okie', 'old', 'one', 'ones', 'online', 'oops', 'open', 'operator', 'opt', 'orange', 'orchard', 'order', 'oredi', 'oso', 'otherwise', 'outside', 'pa', 'pain', 'parents', 'park', 'part', 'party', 'pass', 'pay', 'people', 'per', 'person', 'phone', 'phones', 'pic', 'pick', 'picking', 'pics', 'place', 'plan', 'plans', 'play', 'player', 'please', 'pls', 'plus', 'plz', 'pm', 'po', 'pobox', 'point', 'points', 'poly', 'post', 'pounds', 'press', 'pretty', 'price', 'princess', 'private', 'prize', 'prob', 'probably', 'problem', 'project', 'pub', 'put', 'question', 'questions', 'quite', 'quiz', 'rate', 'rates', 'reach', 'reached', 'read', 'reading', 'ready', 'real', 'really', 'reason', 'receive', 'remember', 'remove', 'rental', 'reply', 'representative', 'right', 'ring', 'ringtone', 'rite', 'room', 'rply', 'run', 'sad', 'sae', 'safe', 'said', 'sat', 'saturday', 'save', 'saw', 'say', 'saying', 'says', 'sch', 'school', 'sea', 'search', 'second', 'secret', 'see', 'seeing', 'seen', 'selected', 'semester', 'send', 'sending', 'sent', 'service', 'services', 'set', 'sex', 'sexy', 'shall', 'shes', 'shit', 'shop', 'shopping', 'show', 'shower', 'shows', 'side', 'sim', 'simple', 'since', 'sir', 'sis', 'sister', 'sleep', 'sleeping', 'slow', 'slowly', 'small', 'smile', 'smiling', 'smoke', 'sms', 'smth', 'snow', 'somebody', 'someone', 'something', 'somewhere', 'song', 'soon', 'sorry', 'sort', 'sound', 'sounds', 'speak', 'special', 'spend', 'st', 'start', 'started', 'statement', 'stay', 'still', 'stop', 'store', 'story', 'stuff', 'stupid', 'sun', 'support', 'supposed', 'sure', 'surprise', 'sweet', 'swing', 'take', 'takes', 'taking', 'talk', 'talking', 'tc', 'tcs', 'tel', 'tell', 'telling', 'ten', 'terms', 'test', 'text', 'texts', 'th', 'thank', 'thanks', 'thanx', 'thats', 'theres', 'thing', 'things', 'think', 'thinking', 'thinks', 'thk', 'tho', 'though', 'thought', 'tickets', 'til', 'till', 'time', 'times', 'tired', 'tmr', 'today', 'todays', 'together', 'told', 'tomo', 'tomorrow', 'tone', 'tones', 'tonight', 'took', 'top', 'tot', 'touch', 'town', 'treat', 'tried', 'trip', 'true', 'truth', 'try', 'trying', 'tscs', 'tv', 'two', 'txt', 'txting', 'txts', 'type', 'ugh', 'uk', 'uks', 'uncle', 'understand', 'unlimited', 'unredeemed', 'unsubscribe', 'update', 'ur', 'ure', 'urgent', 'us', 'use', 'used', 'usf', 'valentines', 'valid', 'valued', 'via', 'video', 'visit', 'voice', 'voucher', 'vouchers', 'wait', 'waiting', 'wake', 'walk', 'wan', 'wana', 'wanna', 'want', 'wanted', 'wants', 'warm', 'wasnt', 'wat', 'watch', 'watching', 'water', 'wats', 'way', 'wed', 'week', 'weekend', 'weekends', 'weekly', 'weeks', 'welcome', 'well', 'wen', 'went', 'whatever', 'whats', 'whenever', 'whole', 'whos', 'wid', 'wif', 'wife', 'wil', 'win', 'wine', 'winner', 'wish', 'wishing', 'wit', 'within', 'without', 'wk', 'wkly', 'woke', 'wonder', 'wonderful', 'wont', 'word', 'words', 'work', 'working', 'world', 'worry', 'worth', 'wot', 'would', 'wow', 'write', 'wrong', 'xmas', 'xx', 'xxx', 'ya', 'yar', 'yeah', 'year', 'years', 'yep', 'yes', 'yesterday', 'yet', 'yo', 'youll', 'youre', 'youve', 'yr', 'yup', 'ìï']\n"
     ]
    },
    {
     "name": "stderr",
     "output_type": "stream",
     "text": [
      "C:\\Users\\Subrat\\anaconda3\\lib\\site-packages\\sklearn\\utils\\deprecation.py:87: FutureWarning: Function get_feature_names is deprecated; get_feature_names is deprecated in 1.0 and will be removed in 1.2. Please use get_feature_names_out instead.\n",
      "  warnings.warn(msg, category=FutureWarning)\n"
     ]
    }
   ],
   "source": [
    "print(vectorizer.get_feature_names())"
   ]
  },
  {
   "cell_type": "code",
   "execution_count": 33,
   "id": "87a287a0",
   "metadata": {},
   "outputs": [
    {
     "data": {
      "text/plain": [
       "872"
      ]
     },
     "execution_count": 33,
     "metadata": {},
     "output_type": "execute_result"
    }
   ],
   "source": [
    "len(vectorizer.get_feature_names())"
   ]
  },
  {
   "cell_type": "code",
   "execution_count": 34,
   "id": "696876a8",
   "metadata": {},
   "outputs": [
    {
     "data": {
      "text/plain": [
       "(5572, 872)"
      ]
     },
     "execution_count": 34,
     "metadata": {},
     "output_type": "execute_result"
    }
   ],
   "source": [
    "X.toarray().shape"
   ]
  },
  {
   "cell_type": "markdown",
   "id": "53fc81df",
   "metadata": {},
   "source": [
    "## Training a model\n",
    "Firstly we will do the usual train test split"
   ]
  },
  {
   "cell_type": "code",
   "execution_count": 36,
   "id": "11e8aa77",
   "metadata": {},
   "outputs": [],
   "source": [
    "msg_train,msg_test,label_train,label_test = train_test_split(message['tokenized_message'],message['label'],test_size=0.2)"
   ]
  },
  {
   "cell_type": "code",
   "execution_count": 37,
   "id": "d1c7de36",
   "metadata": {},
   "outputs": [
    {
     "data": {
      "text/plain": [
       "2764    Open rebtel firefox loads put plus sign user n...\n",
       "1650    dont file bagi work called mei tell find anyth...\n",
       "2093    Final Chance Claim ur å£150 worth discount vou...\n",
       "4289    information IKEA spelled caps yelling thought ...\n",
       "2035                 Simply sitting watching match office\n",
       "Name: tokenized_message, dtype: object"
      ]
     },
     "execution_count": 37,
     "metadata": {},
     "output_type": "execute_result"
    }
   ],
   "source": [
    "msg_train.head()"
   ]
  },
  {
   "cell_type": "markdown",
   "id": "60acee39",
   "metadata": {},
   "source": [
    "With messages represented as vectors, we can finally train our spam/ham classifier. Now we can use Naive Bayes Classifier to perform this classification task"
   ]
  },
  {
   "cell_type": "code",
   "execution_count": 39,
   "id": "f5b4e5c3",
   "metadata": {},
   "outputs": [],
   "source": [
    "train_vectorized = vectorizer.transform(msg_train)\n",
    "test_vectorized = vectorizer.transform(msg_test)"
   ]
  },
  {
   "cell_type": "code",
   "execution_count": 40,
   "id": "f46f65dc",
   "metadata": {},
   "outputs": [
    {
     "data": {
      "text/plain": [
       "<4457x872 sparse matrix of type '<class 'numpy.int64'>'\n",
       "\twith 24357 stored elements in Compressed Sparse Row format>"
      ]
     },
     "execution_count": 40,
     "metadata": {},
     "output_type": "execute_result"
    }
   ],
   "source": [
    "train_vectorized"
   ]
  },
  {
   "cell_type": "code",
   "execution_count": 41,
   "id": "7c42b043",
   "metadata": {},
   "outputs": [],
   "source": [
    "train_array= train_vectorized.toarray()\n",
    "test_array = test_vectorized.toarray()"
   ]
  },
  {
   "cell_type": "code",
   "execution_count": 42,
   "id": "e5a4689e",
   "metadata": {},
   "outputs": [],
   "source": [
    "from sklearn.naive_bayes import GaussianNB\n",
    "spam_detect_model = GaussianNB().fit(train_array,label_train)"
   ]
  },
  {
   "cell_type": "code",
   "execution_count": 43,
   "id": "83988bd9",
   "metadata": {},
   "outputs": [],
   "source": [
    "train_preds = spam_detect_model.predict(train_array)\n",
    "test_preds = spam_detect_model.predict(test_array)"
   ]
  },
  {
   "cell_type": "code",
   "execution_count": 45,
   "id": "fcc25f39",
   "metadata": {},
   "outputs": [
    {
     "name": "stdout",
     "output_type": "stream",
     "text": [
      "[[2905  961]\n",
      " [   0  591]]\n",
      "[[737 222]\n",
      " [  7 149]]\n"
     ]
    }
   ],
   "source": [
    "# Confusion matrices for train and test \n",
    "\n",
    "print(confusion_matrix(label_train,train_preds))\n",
    "print(confusion_matrix(label_test,test_preds))"
   ]
  },
  {
   "cell_type": "code",
   "execution_count": 46,
   "id": "d38ed282",
   "metadata": {},
   "outputs": [
    {
     "name": "stdout",
     "output_type": "stream",
     "text": [
      "              precision    recall  f1-score   support\n",
      "\n",
      "         ham       1.00      0.75      0.86      3866\n",
      "        spam       0.38      1.00      0.55       591\n",
      "\n",
      "    accuracy                           0.78      4457\n",
      "   macro avg       0.69      0.88      0.70      4457\n",
      "weighted avg       0.92      0.78      0.82      4457\n",
      "\n",
      "\n",
      "\n",
      "              precision    recall  f1-score   support\n",
      "\n",
      "         ham       0.99      0.77      0.87       959\n",
      "        spam       0.40      0.96      0.57       156\n",
      "\n",
      "    accuracy                           0.79      1115\n",
      "   macro avg       0.70      0.86      0.72      1115\n",
      "weighted avg       0.91      0.79      0.82      1115\n",
      "\n"
     ]
    }
   ],
   "source": [
    "# Print the classification report for train and test\n",
    "print(classification_report(label_train,train_preds))\n",
    "print(\"\\n\")\n",
    "print(classification_report(label_test,test_preds))"
   ]
  },
  {
   "cell_type": "code",
   "execution_count": null,
   "id": "533bf771",
   "metadata": {},
   "outputs": [],
   "source": []
  }
 ],
 "metadata": {
  "kernelspec": {
   "display_name": "Python 3 (ipykernel)",
   "language": "python",
   "name": "python3"
  },
  "language_info": {
   "codemirror_mode": {
    "name": "ipython",
    "version": 3
   },
   "file_extension": ".py",
   "mimetype": "text/x-python",
   "name": "python",
   "nbconvert_exporter": "python",
   "pygments_lexer": "ipython3",
   "version": "3.9.7"
  }
 },
 "nbformat": 4,
 "nbformat_minor": 5
}
